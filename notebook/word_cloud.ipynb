{
 "cells": [
  {
   "cell_type": "code",
   "execution_count": 286,
   "metadata": {},
   "outputs": [],
   "source": [
    "from khaiii import KhaiiiApi\n",
    "import numpy as np\n",
    "import matplotlib.pyplot as plt\n",
    "from wordcloud import WordCloud\n",
    "from PIL import Image\n",
    "\n",
    "import os\n",
    "import zipfile\n",
    "import sys\n",
    "import pandas as pd\n",
    "import re\n",
    "import warnings\n",
    "import time\n",
    "import urllib\n",
    "import requests\n",
    "\n",
    "api = KhaiiiApi()\n",
    "font_path = './font/NotoSansCJKkr-Bold.otf'\n",
    "url = 'https://www.mandarinstone.com/app/uploads/2017/09/Geometric-Cube-Decor-Ebony_Dove_White-Swatch.jpg'\n",
    "path_dir = './data'\n",
    "\n",
    "def get_file_list (path):\n",
    "    return os.listdir(path)\n",
    "\n",
    "def get_data (file_idx, file_list): \n",
    "    file_path = f'{path_dir}/{file_list[file_idx]}'\n",
    "    data = pd.DataFrame()\n",
    "    file = pd.read_csv(file_path, \n",
    "                       error_bad_lines=False, \n",
    "                       engine='python', \n",
    "                       warn_bad_lines=False)\n",
    "    data = pd.concat([data,file])\n",
    "    return data['content']\n",
    "\n",
    "file_list = get_file_list(path_dir)\n",
    "text_data = get_data(0, file_list)"
   ]
  },
  {
   "cell_type": "code",
   "execution_count": 301,
   "metadata": {},
   "outputs": [],
   "source": [
    "def get_words (data, corpus):\n",
    "    word = list()\n",
    "    for i in range(len(data)):\n",
    "        for text in KhaiiiApi().analyze(str(text_data[i])):\n",
    "            temp = str(text).split(\"\\t\")[1].split('+')\n",
    "            word.extend(corpus.findall(str(temp)))\n",
    "\n",
    "    return word\n",
    "\n",
    "noun = '[ㄱ-ㅎ가-힣a-zA-Z]{2,}(?=\\/NNG)|[ㄱ-ㅎ가-힣a-zA-Z]{2,}(?=\\/NNP)'\n",
    "foreign = '[ㄱ-ㅎ가-힣a-zA-Z]{2,}(?=\\/SL)'\n",
    "adjective = '[ㄱ-ㅎ가-힣a-zA-Z]{2,}(?=\\/VA)'\n",
    "verb = '[ㄱ-ㅎ가-힣a-zA-Z]{2,}(?=\\/VV)'\n",
    "\n",
    "corpus = re.compile(noun+'|'+foreign+'|'+adjective+'|'+verb)\n",
    "word = get_words(text_data, corpus)"
   ]
  },
  {
   "cell_type": "code",
   "execution_count": 304,
   "metadata": {},
   "outputs": [],
   "source": [
    "def get_word_count (words):\n",
    "    return (\n",
    "        pd.DataFrame(words, columns=['word'])\n",
    "        .groupby('word')\n",
    "        .size()\n",
    "        .reset_index(name='count')\n",
    "        .sort_values(['count'], ascending=False)\n",
    "        .reset_index(drop=True)\n",
    "    )\n",
    "\n",
    "word_count = get_word_count(word)"
   ]
  },
  {
   "cell_type": "code",
   "execution_count": 324,
   "metadata": {},
   "outputs": [],
   "source": [
    "# modify stop_words\n",
    "\n",
    "# behavior\n",
    "# word_count.loc[word_count['word'] == '일어나', 'word'] = '일어남'\n",
    "# word_count.loc[word_count['word'] == '줄이', 'word'] = '줄임'\n",
    "# word_count.loc[word_count['word'] == '빠르', 'word'] = '빠름'\n",
    "\n",
    "# test\n",
    "word_count.loc[word_count['word'] == '비싸', 'word'] = '비쌈'\n",
    "word_count.loc[word_count['word'] == '새롭', 'word'] = '새로움'\n",
    "word_count.loc[word_count['word'] == '모르', 'word'] = '모름'\n",
    "\n",
    "# recommend\n",
    "# word_count.loc[word_count['word'] == '알리', 'word'] = '알림'\n",
    "# word_count.loc[word_count['word'] == '빼놓', 'word'] = '빼놓음'\n",
    "# word_count.loc[word_count['word'] == '잠그', 'word'] = '잠금'\n",
    "# word_count.loc[word_count['word'] == '느끼', 'word'] = '느낌'\n",
    "\n",
    "# purchase\n",
    "# word_count.loc[word_count['word'] == '빠르', 'word'] = '빠름'"
   ]
  },
  {
   "cell_type": "code",
   "execution_count": 315,
   "metadata": {},
   "outputs": [],
   "source": [
    "# remove stop_words\n",
    "stop_words = (\n",
    "    list()\n",
    "    .extend([\n",
    "#     'nan', '위하', '화재시', '경우', '모르', '대하', '통하', '의하', '만약',\n",
    "#     '느끼', '나오', '알아보', '정도', '인하', '의양이', '이외', '우선', '대하', '내용', '설명', '경우', '차원', '사용', '테스트', '위하', '이상', '판단', '가능', '부분', '관련', '생각', '경호', '대중'\n",
    "#     '강아지', '통하', '미연', '만약', '잠구', '비상', '대비', '방법', 'off', '외출', '위치', '추천', '위하', '주위', '정도', '차원', '사람', '이유', '경우', '이하내용', '대하', '소개', '판단', '인하', '의구심', '요즘', '부담', '의향', '느낌', '생각'\n",
    "#         '위하', '경우', '미연', '생각', '일어나', '만약', '대하', '줄이', '화재시', '가능', '구매', '통하', '이나', '완동물', '의하', '최소', '차원', 'IoT'\n",
    "    ]))"
   ]
  },
  {
   "cell_type": "code",
   "execution_count": 312,
   "metadata": {},
   "outputs": [
    {
     "data": {
      "text/html": [
       "<div>\n",
       "<style scoped>\n",
       "    .dataframe tbody tr th:only-of-type {\n",
       "        vertical-align: middle;\n",
       "    }\n",
       "\n",
       "    .dataframe tbody tr th {\n",
       "        vertical-align: top;\n",
       "    }\n",
       "\n",
       "    .dataframe thead th {\n",
       "        text-align: right;\n",
       "    }\n",
       "</style>\n",
       "<table border=\"1\" class=\"dataframe\">\n",
       "  <thead>\n",
       "    <tr style=\"text-align: right;\">\n",
       "      <th></th>\n",
       "      <th>word</th>\n",
       "      <th>count</th>\n",
       "    </tr>\n",
       "  </thead>\n",
       "  <tbody>\n",
       "    <tr>\n",
       "      <th>0</th>\n",
       "      <td>생각</td>\n",
       "      <td>9</td>\n",
       "    </tr>\n",
       "    <tr>\n",
       "      <th>1</th>\n",
       "      <td>부담</td>\n",
       "      <td>8</td>\n",
       "    </tr>\n",
       "    <tr>\n",
       "      <th>2</th>\n",
       "      <td>비싸</td>\n",
       "      <td>8</td>\n",
       "    </tr>\n",
       "    <tr>\n",
       "      <th>3</th>\n",
       "      <td>비용</td>\n",
       "      <td>6</td>\n",
       "    </tr>\n",
       "    <tr>\n",
       "      <th>4</th>\n",
       "      <td>느끼</td>\n",
       "      <td>5</td>\n",
       "    </tr>\n",
       "  </tbody>\n",
       "</table>\n",
       "</div>"
      ],
      "text/plain": [
       "  word  count\n",
       "0   생각      9\n",
       "1   부담      8\n",
       "2   비싸      8\n",
       "3   비용      6\n",
       "4   느끼      5"
      ]
     },
     "execution_count": 312,
     "metadata": {},
     "output_type": "execute_result"
    }
   ],
   "source": [
    "def get_new_count (old_word_count):\n",
    "    return (\n",
    "        old_word_count\n",
    "        .groupby(['word'])\n",
    "        .sum()\n",
    "        .sort_values(['count'], \n",
    "                     ascending=False)\n",
    "        .astype(int)['count']\n",
    "    )\n",
    "def get_new_word (old_word_count):\n",
    "    return (\n",
    "        old_word_count\n",
    "        .groupby(['word'])\n",
    "        .sum()\n",
    "        .sort_values(['count'], \n",
    "                     ascending=False)\n",
    "        .index\n",
    "    )\n",
    "def get_filtered_word_count (stop_words, old_word_count):\n",
    "    for i in range(len(stop_words)):\n",
    "        old_word_count = (\n",
    "            old_word_count[old_word_count['word'] != stop_words[i]]\n",
    "            .reset_index()\n",
    "            .drop(['index'],\n",
    "                  axis=1)\n",
    "        )\n",
    "    \n",
    "    new_count = get_new_count(old_word_count)\n",
    "    new_word = get_new_word(old_word_count)\n",
    "    word_count = pd.DataFrame(list(zip(new_word, new_count)),\n",
    "                              columns=['word','count'])\n",
    "    return word_count\n",
    "\n",
    "new_word_count = get_filtered_word_count(stop_words, word_count)\n",
    "\n",
    "# result\n",
    "new_word_count.head()"
   ]
  },
  {
   "cell_type": "code",
   "execution_count": 309,
   "metadata": {
    "scrolled": false
   },
   "outputs": [
    {
     "data": {
      "image/png": "[encoded data removed]",
      "text/plain": [
       "<Figure size 720x576 with 1 Axes>"
      ]
     },
     "metadata": {
      "needs_background": "light"
     },
     "output_type": "display_data"
    }
   ],
   "source": [
    "# word_cloud\n",
    "mask = np.array(Image.open(requests.get(url, stream=True).raw))\n",
    "\n",
    "def get_word_dict (cloud_vol):\n",
    "    word_dict = dict()\n",
    "    for i in range(cloud_vol):\n",
    "        word_dict[new_word_count['word'][i]] = new_word_count['count'][i]\n",
    "        \n",
    "    return word_dict\n",
    "def get_word_cloud (word_dict):\n",
    "    %matplotlib inline\n",
    "    wc = WordCloud(font_path=font_path,\n",
    "                   min_font_size = .5,\n",
    "                   colormap='Dark2',\n",
    "                   background_color='white', \n",
    "                   width=800,\n",
    "                   height=800,\n",
    "                   mask=mask)\n",
    "\n",
    "    cloud = wc.generate_from_frequencies(word_dict)\n",
    "    plt.figure(figsize=(10,8))\n",
    "    plt.axis('off')\n",
    "    plt.imshow(cloud)\n",
    "\n",
    "word_dict = get_word_dict(16)\n",
    "get_word_cloud(word_dict)"
   ]
  },
  {
   "cell_type": "code",
   "execution_count": null,
   "metadata": {},
   "outputs": [],
   "source": []
  }
 ],
 "metadata": {
  "kernelspec": {
   "display_name": "Python 3",
   "language": "python",
   "name": "python3"
  },
  "language_info": {
   "codemirror_mode": {
    "name": "ipython",
    "version": 3
   },
   "file_extension": ".py",
   "mimetype": "text/x-python",
   "name": "python",
   "nbconvert_exporter": "python",
   "pygments_lexer": "ipython3",
   "version": "3.6.9"
  }
 },
 "nbformat": 4,
 "nbformat_minor": 4
}
